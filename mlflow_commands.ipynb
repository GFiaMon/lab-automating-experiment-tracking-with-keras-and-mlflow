{
 "cells": [
  {
   "cell_type": "code",
   "execution_count": 4,
   "id": "0493646a",
   "metadata": {},
   "outputs": [
    {
     "name": "stdout",
     "output_type": "stream",
     "text": [
      "Tracking URI: http://127.0.0.1:5000\n",
      "✓ Experiment 'reuters-classification-keras-mlflow' is ready\n"
     ]
    }
   ],
   "source": [
    "import mlflow\n",
    "from mlflow.tracking import MlflowClient\n",
    "\n",
    "client = MlflowClient()\n",
    "\n",
    "# Set the tracking URI to connect to your local MLflow server\n",
    "mlflow.set_tracking_uri(\"http://127.0.0.1:5000\")\n",
    "\n",
    "print(f\"Tracking URI: {mlflow.get_tracking_uri()}\")\n",
    "\n",
    "# Create or set experiment\n",
    "experiment_name = \"reuters-classification-keras-mlflow\"\n",
    "mlflow.set_experiment(experiment_name)\n",
    "\n",
    "print(f\"✓ Experiment '{experiment_name}' is ready\")\n"
   ]
  },
  {
   "cell_type": "code",
   "execution_count": 5,
   "id": "5cddc26e",
   "metadata": {},
   "outputs": [
    {
     "name": "stdout",
     "output_type": "stream",
     "text": [
      "Experiment: reuters-classification-keras-mlflow (ID: 1)\n",
      "  - Run: dense-512-lr-0.01-epochs-5-v3 (ID: e045d1fab25645728e425bd426443279)\n",
      "  - Run: bustling-toad-356 (ID: 58ac5dc4042d4066bc898351036f1e21)\n",
      "  - Run: dense-512-lr-0.001-epochs-10-v2 (ID: dd66743a176c400ea62c2479a08199df)\n",
      "  - Run: debonair-newt-3 (ID: 98014b4beadf4c0f86744d8ba7a5cbd1)\n",
      "  - Run: dense-512-lr-0.001-epochs-5 (ID: e319ada4b99f4a86b23f2078d2b73bf9)\n",
      "  - Run: exultant-flea-672 (ID: 1a1208dd257b4d5eaa1fa4374c5a49ac)\n",
      "  - Run: unleashed-mule-251 (ID: f6549a712f074e35a8b97367f933882e)\n",
      "  - Run: keras-dense-v1-t1 (ID: 3f336a4b38ad4104a5627cf884e09631)\n",
      "  - Run: keras-dense-v1-t1 (ID: e03af2b90fdd411dbe5d0a099d66cd65)\n",
      "  - Run: zealous-boar-655 (ID: e8df73bd63984570b20fbe8ead0ba046)\n",
      "Experiment: Default (ID: 0)\n",
      "  - Run: bouncy-flea-789 (ID: 6d417da8e16f4eb288381969f7cf4d75)\n"
     ]
    }
   ],
   "source": [
    "# List all experiments first\n",
    "# Use this instead:\n",
    "\n",
    "experiments = client.search_experiments()\n",
    "for exp in experiments:\n",
    "    print(f\"Experiment: {exp.name} (ID: {exp.experiment_id})\")\n",
    "    runs = client.search_runs(experiment_ids=[exp.experiment_id])\n",
    "    for run in runs:\n",
    "        print(f\"  - Run: {run.info.run_name} (ID: {run.info.run_id})\")"
   ]
  },
  {
   "cell_type": "code",
   "execution_count": null,
   "id": "42361615",
   "metadata": {},
   "outputs": [
    {
     "name": "stdout",
     "output_type": "stream",
     "text": [
      "Run found: keras-dense-v1-t1\n"
     ]
    }
   ],
   "source": [
    "try:\n",
    "    run = client.get_run(\"3f336a4b38ad4104a5627cf884e09631\") # Run found: keras-dense-v1-t1\n",
    "    print(f\"Run found: {run.info.run_name}\")\n",
    "except:\n",
    "    print(\"Run not found\")"
   ]
  },
  {
   "cell_type": "code",
   "execution_count": null,
   "id": "b1e1fe93",
   "metadata": {},
   "outputs": [],
   "source": [
    "# Delete a specific run by its ID\n",
    "client.delete_run(\"3f336a4b38ad4104a5627cf884e09631\") # Run found: keras-dense-v1-t1"
   ]
  },
  {
   "cell_type": "code",
   "execution_count": null,
   "id": "bd87c797",
   "metadata": {},
   "outputs": [
    {
     "name": "stdout",
     "output_type": "stream",
     "text": [
      "Run found: unleashed-mule-251\n"
     ]
    }
   ],
   "source": [
    "try:\n",
    "    run = client.get_run(\"f6549a712f074e35a8b97367f933882e\") # Run found: unleashed-mule-251\n",
    "    print(f\"Run found: {run.info.run_name}\")\n",
    "except:\n",
    "    print(\"Run not found\")"
   ]
  },
  {
   "cell_type": "code",
   "execution_count": null,
   "id": "d86729a5",
   "metadata": {},
   "outputs": [],
   "source": [
    "# Delete a specific run by its ID\n",
    "client.delete_run(\"f6549a712f074e35a8b97367f933882e\") # Run found: unleashed-mule-251"
   ]
  },
  {
   "cell_type": "code",
   "execution_count": 3,
   "id": "0272097c",
   "metadata": {},
   "outputs": [],
   "source": [
    "runs = client.search_runs(experiment_ids=[\"1\"])  # \"1\" is usually the default experiment\n",
    "for run in runs:\n",
    "    print(f\"ID: {run.info.run_id}, Name: {run.info.run_name}\")"
   ]
  }
 ],
 "metadata": {
  "kernelspec": {
   "display_name": "TensorFlow Metal",
   "language": "python",
   "name": "tf_metal_venv"
  },
  "language_info": {
   "codemirror_mode": {
    "name": "ipython",
    "version": 3
   },
   "file_extension": ".py",
   "mimetype": "text/x-python",
   "name": "python",
   "nbconvert_exporter": "python",
   "pygments_lexer": "ipython3",
   "version": "3.11.13"
  }
 },
 "nbformat": 4,
 "nbformat_minor": 5
}
